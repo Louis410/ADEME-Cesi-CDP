{
 "cells": [
  {
   "cell_type": "markdown",
   "metadata": {},
   "source": [
    "<img src = \"https://upload.wikimedia.org/wikipedia/fr/thumb/e/ef/Logo_cesi_2022.png/1024px-Logo_cesi_2022.png\" width=\"8%\" height=\"8%\" style=\"position: relative;left: 45rem;\">"
   ]
  },
  {
   "cell_type": "markdown",
   "metadata": {},
   "source": [
    "# <center>Projet ADEME</center>"
   ]
  },
  {
   "cell_type": "markdown",
   "metadata": {},
   "source": [
    "<h2 style=\"color: orange\">Livrable 1: Modélisation</h2>"
   ]
  },
  {
   "cell_type": "markdown",
   "metadata": {},
   "source": [
    "<img src = \"https://cdn-icons-png.flaticon.com/512/4391/4391168.png\" width=30%>"
   ]
  },
  {
   "cell_type": "markdown",
   "metadata": {},
   "source": [
    "\n",
    "### Table of Contents\n",
    "\n",
    "* [Introduction](#introduction)\n",
    "    * [Présentation du groupe](#section_1_1)\n",
    "    * [Contexte du projet](sSection_1_2)\n",
    "    * [Objectif du livrable](sSection_1_3)\n",
    "        \n",
    "* [Contextualisation du projet](#contextualisation_du_projet)\n",
    "    * [Propriétés théoriques](#proprietes_theoriques)\n",
    "* [Représentation des données](#representation_des_données)\n",
    "    * [Repréntation du problème](#reprentation_du_probleme)\n",
    "    * [Contraintes à traiter](#contraintes_a_traiter)"
   ]
  },
  {
   "cell_type": "markdown",
   "metadata": {},
   "source": [
    "### Introduction"
   ]
  },
  {
   "cell_type": "markdown",
   "metadata": {},
   "source": [
    "#### Présentation du groupe\n",
    "\n",
    "Groupe de projet numéro \n",
    "\n",
    "<img src=\"https://ent.cesi.fr/medias/photo/v_claus-paul_1600246420138-jpg\">"
   ]
  },
  {
   "cell_type": "markdown",
   "metadata": {},
   "source": [
    "#### Modélisation du problème\n",
    "\n",
    "Il nous a été demandé de résoudre un problème de tournées de véhicule. Nous avons décidé que les sommets à visiter seronts définis par leurs coordonnées. Dans notre cas, nous devrons trouver des itinéraires pour effectuer des tournées de livraisons pour atteindre différentes villes sur un large territoire, nous admettons alors que le graphe est complet, et non orienté. Le but est de passé une seul et unique fois par le même sommet. La finalité du parcours sera le point de départ du parcours c est à dire que le véhicule revient au départ après sa course.\n",
    "\n"
   ]
  },
  {
   "cell_type": "markdown",
   "metadata": {},
   "source": [
    "#### Complexité du problème\n",
    "Pour démontrer la complexité du problème, il faut démontrer que NP est complet.\n",
    "\n",
    "Pour effetuer cette démonstration il faut prouver que l'algorythme de l'ADEMEE est NP-Difficile pour ensuite en déduire NP-Complet. Or le problème du voyageur du commerce (TSP) est un problème NP-Complet et donc NP-Difficile.\n",
    "\n",
    "Pour se faire il faut déterminé le temps polynomiale.\n",
    "\n",
    "Le problème du voyageur de commerce (TSP) consiste à déterminer s'il existe un chemin qui passe par tous les sommets d'un graphe une seule fois, avec un coût total inférieur ou égal à k.\n",
    "\n",
    "Pour prouver que TSP est NP-complet, nous devons montrer qu'il est dans la classe NP et réduire un problème NP-complet à TSP.\n",
    "\n",
    "D'abord, nous montrons que TSP est dans NP. Nous utilisons une séquence de n sommets formant un cycle comme certificat. En vérifiant linéairement que le coût de ce cycle (la somme des coûts de chaque arête) est inférieur à k, nous pouvons vérifier en temps polynomial si le certificat est valide. Par conséquent, TSP est dans NP.\n",
    "\n",
    "Ensuite, nous réduisons le problème du cycle hamiltonien (HAM-CYCLE), qui est NP-complet, à TSP. Supposons que nous ayons une instance G = (V, E) de HAM-CYCLE. Nous construisons une instance de TSP en définissant la fonction de coût c(i, j) comme suit :\n",
    "\n",
    "    c(i, j) = 0 si l'arête (i, j) appartient à E (i et j sont des sommets adjacents dans G).\n",
    "    c(i, j) = 1 sinon (i et j ne sont pas des sommets adjacents dans G).\n",
    "    "
   ]
  },
  {
   "cell_type": "code",
   "execution_count": null,
   "metadata": {},
   "outputs": [],
   "source": []
  },
  {
   "cell_type": "code",
   "execution_count": null,
   "metadata": {},
   "outputs": [],
   "source": []
  }
 ],
 "metadata": {
  "kernelspec": {
   "display_name": "Python 3",
   "language": "python",
   "name": "python3"
  },
  "language_info": {
   "codemirror_mode": {
    "name": "ipython",
    "version": 3
   },
   "file_extension": ".py",
   "mimetype": "text/x-python",
   "name": "python",
   "nbconvert_exporter": "python",
   "pygments_lexer": "ipython3",
   "version": "3.8.5"
  }
 },
 "nbformat": 4,
 "nbformat_minor": 5
}
